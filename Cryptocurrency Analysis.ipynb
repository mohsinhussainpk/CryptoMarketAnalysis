{
 "cells": [
  {
   "cell_type": "markdown",
   "metadata": {
    "dc": {
     "key": "4"
    },
    "deletable": false,
    "editable": false,
    "run_control": {
     "frozen": true
    },
    "tags": [
     "context"
    ]
   },
   "source": [
    "## 1. Bitcoin. Cryptocurrencies. So hot right now.\n",
    "<p>Since the <a href=\"https://newfronttest.bitcoin.com/bitcoin.pdf\">launch of Bitcoin in 2008</a>, hundreds of similar projects based on the blockchain technology have emerged. We call these cryptocurrencies (also coins or cryptos in the Internet slang). Some are extremely valuable nowadays, and others may have the potential to become extremely valuable in the future<sup>1</sup>. In fact, the 6th of December of 2017 Bitcoin has a <a href=\"https://en.wikipedia.org/wiki/Market_capitalization\">market capitalization</a> above $200 billion. </p>\n",
    "<p><center>\n",
    "<img src=\"https://s3.amazonaws.com/assets.datacamp.com/production/project_82/img/bitcoint_market_cap_2017.png\" style=\"width:500px\"> <br> \n",
    "<em>The astonishing increase of Bitcoin market capitalization in 2017.</em></center></p>\n",
    "<p>*<sup>1</sup>- <strong>WARNING</strong>: The cryptocurrency market is exceptionally volatile and any money you put in might disappear into thin air.  Cryptocurrencies mentioned here <strong>might be scams</strong> similar to <a href=\"https://en.wikipedia.org/wiki/Ponzi_scheme\">Ponzi Schemes</a> or have many other issues (overvaluation, technical, etc.). <strong>Please do not mistake this for investment advice</strong>. *</p>\n",
    "<p>That said, let's get to business. As a first task, we will load the current data from the <a href=\"https://api.coinmarketcap.com\">coinmarketcap API</a> and display it in the output.</p>"
   ]
  },
  {
   "cell_type": "code",
   "execution_count": 2,
   "metadata": {
    "dc": {
     "key": "4"
    },
    "tags": [
     "sample_code"
    ]
   },
   "outputs": [
    {
     "name": "stdout",
     "output_type": "stream",
     "text": [
      "   24h_volume_usd  available_supply            id  last_updated  \\\n",
      "0      6936760000          16905325       bitcoin    1520429967   \n",
      "1      1857730000          98039584      ethereum    1520429952   \n",
      "2       695703000       39091956706        ripple    1520429941   \n",
      "3       442264000          17004650  bitcoin-cash    1520429954   \n",
      "4       652008000          55522531      litecoin    1520429941   \n",
      "\n",
      "   market_cap_usd    max_supply          name  percent_change_1h  \\\n",
      "0    180153286395  2.100000e+07       Bitcoin              -0.02   \n",
      "1     77882449574           NaN      Ethereum               0.35   \n",
      "2     35826449195  1.000000e+11        Ripple              -0.47   \n",
      "3     20079090720  2.100000e+07  Bitcoin Cash               0.43   \n",
      "4     10813401527  8.400000e+07      Litecoin               0.57   \n",
      "\n",
      "   percent_change_24h  percent_change_7d  price_btc     price_usd  rank  \\\n",
      "0               -2.91               0.44   1.000000  10656.600000     1   \n",
      "1               -4.39              -8.70   0.074819    794.398000     2   \n",
      "2               -2.66              -0.54   0.000086      0.916466     3   \n",
      "3               -2.64              -3.44   0.111212   1180.800000     4   \n",
      "4               -3.30              -7.47   0.018343    194.757000     5   \n",
      "\n",
      "  symbol  total_supply  \n",
      "0    BTC      16905325  \n",
      "1    ETH      98039584  \n",
      "2    XRP   99992520283  \n",
      "3    BCH      17004650  \n",
      "4    LTC      55522531  \n"
     ]
    }
   ],
   "source": [
    "# Importing pandas\n",
    "import pandas as pd\n",
    "\n",
    "# Importing matplotlib and setting aesthetics for plotting later.\n",
    "import matplotlib.pyplot as plt\n",
    "%matplotlib inline\n",
    "%config InlineBackend.figure_format = 'svg' \n",
    "plt.style.use('fivethirtyeight')\n",
    "\n",
    "# Reading in current data from coinmarketcap.com\n",
    "url = \"https://api.coinmarketcap.com/v1/ticker/?limit=10\"\n",
    "\n",
    "data = pd.read_json(url)\n",
    "\n",
    "df = pd.DataFrame(data)\n",
    "\n",
    "print(df.head(5))\n",
    "\n",
    "#current =  \n",
    "\n",
    "# Printing out the first few lines\n",
    "# ... YOUR CODE FOR TASK 1 ..."
   ]
  },
  {
   "cell_type": "markdown",
   "metadata": {
    "dc": {
     "key": "11"
    },
    "deletable": false,
    "editable": false,
    "run_control": {
     "frozen": true
    },
    "tags": [
     "context"
    ]
   },
   "source": [
    "## 2. Full dataset, filtering, and reproducibility\n",
    "<p>The previous API call returns only the first 100 coins, and we want to explore as many coins as possible. Moreover, we can't produce reproducible analysis with live online data. To solve these problems, we will load a CSV we conveniently saved on the 6th of December of 2017 using the API call <code>https://api.coinmarketcap.com/v1/ticker/?limit=0</code> named <code>datasets/coinmarketcap_06122017.csv</code>. </p>"
   ]
  },
  {
   "cell_type": "code",
   "execution_count": 9,
   "metadata": {
    "dc": {
     "key": "11"
    },
    "tags": [
     "sample_code"
    ]
   },
   "outputs": [
    {
     "name": "stdout",
     "output_type": "stream",
     "text": [
      "      Unnamed: 0  24h_volume_usd  available_supply                 id  \\\n",
      "0              0    9.007640e+09      1.672352e+07            bitcoin   \n",
      "1              1    1.551330e+09      9.616537e+07           ethereum   \n",
      "2              2    1.111350e+09      1.684044e+07       bitcoin-cash   \n",
      "3              3    2.936090e+09      2.779530e+09               iota   \n",
      "4              4    2.315050e+08      3.873915e+10             ripple   \n",
      "5              5    2.289430e+08      7.736420e+06               dash   \n",
      "6              6    4.093420e+08      5.415391e+07           litecoin   \n",
      "7              7    1.384070e+08      1.669097e+07       bitcoin-gold   \n",
      "8              8    5.498600e+08      1.544296e+07             monero   \n",
      "9              9    6.164750e+07      2.592707e+10            cardano   \n",
      "10            10    4.020670e+08      9.812566e+07   ethereum-classic   \n",
      "11            11    3.172850e+07      9.000000e+09                nem   \n",
      "12            12    2.490480e+08      5.199591e+08                eos   \n",
      "13            13    1.133520e+08      6.500000e+07                neo   \n",
      "14            14    2.578380e+08      1.783388e+10            stellar   \n",
      "15            15    1.257440e+08      5.581722e+07           monacoin   \n",
      "16            16    2.459810e+07      3.185692e+06         bitconnect   \n",
      "17            17    6.965980e+07      1.156410e+08               lisk   \n",
      "18            18    1.896010e+08      2.774181e+06              zcash   \n",
      "19            19    6.003860e+07      1.020426e+08            omisego   \n",
      "20            20    1.421220e+08      7.369633e+07               qtum   \n",
      "21            21    1.084790e+09      8.140173e+08             tether   \n",
      "22            22    4.676660e+07      1.000000e+08              waves   \n",
      "23            23    3.733400e+07      9.864974e+07            stratis   \n",
      "24            24    1.567790e+06      4.125225e+07           populous   \n",
      "25            25    7.814140e+07      4.233708e+07             hshare   \n",
      "26            26    9.387460e+06      9.989995e+08              ardor   \n",
      "27            27    1.733630e+07      2.603860e+09          bitshares   \n",
      "28            28    6.102460e+06      1.832535e+11       bytecoin-bcn   \n",
      "29            29    2.077010e+07      9.798128e+07                ark   \n",
      "...          ...             ...               ...                ...   \n",
      "1296        1296    1.020000e+00               NaN           wowecoin   \n",
      "1297        1297    3.753680e-01               NaN             bitfid   \n",
      "1298        1298             NaN               NaN          vegascoin   \n",
      "1299        1299             NaN               NaN     gameleaguecoin   \n",
      "1300        1300             NaN               NaN         bitcentavo   \n",
      "1301        1301             NaN               NaN          cybercoin   \n",
      "1302        1302             NaN               NaN            eggcoin   \n",
      "1303        1303             NaN               NaN          shellcoin   \n",
      "1304        1304             NaN               NaN       deltacredits   \n",
      "1305        1305             NaN               NaN             cashme   \n",
      "1306        1306             NaN               NaN                 x2   \n",
      "1307        1307             NaN               NaN           opescoin   \n",
      "1308        1308             NaN               NaN       bitalphacoin   \n",
      "1309        1309             NaN               NaN         psilocybin   \n",
      "1310        1310             NaN               NaN               ocow   \n",
      "1311        1311             NaN               NaN           safecoin   \n",
      "1312        1312             NaN               NaN           pokecoin   \n",
      "1313        1313             NaN               NaN         sportscoin   \n",
      "1314        1314             NaN               NaN            omicron   \n",
      "1315        1315             NaN               NaN            pinkdog   \n",
      "1316        1316             NaN               NaN           teracoin   \n",
      "1317        1317             NaN               NaN            zsecoin   \n",
      "1318        1318             NaN               NaN               bixc   \n",
      "1319        1319             NaN               NaN           tyrocoin   \n",
      "1320        1320             NaN               NaN             picoin   \n",
      "1321        1321             NaN               NaN          turbocoin   \n",
      "1322        1322             NaN               NaN              birds   \n",
      "1323        1323             NaN               NaN  bitcoincashscrypt   \n",
      "1324        1324             NaN               NaN          swisscoin   \n",
      "1325        1325             NaN               NaN          faceblock   \n",
      "\n",
      "      last_updated  market_cap_usd    max_supply               name  \\\n",
      "0       1512549554    2.130493e+11  2.100000e+07            Bitcoin   \n",
      "1       1512549553    4.352945e+10           NaN           Ethereum   \n",
      "2       1512549578    2.529585e+10  2.100000e+07       Bitcoin Cash   \n",
      "3       1512549571    1.475225e+10  2.779530e+09               IOTA   \n",
      "4       1512549541    9.365343e+09  1.000000e+11             Ripple   \n",
      "5       1512549542    5.794076e+09  1.890000e+07               Dash   \n",
      "6       1512549542    5.634498e+09  8.400000e+07           Litecoin   \n",
      "7       1512549582    4.920065e+09  2.100000e+07       Bitcoin Gold   \n",
      "8       1512549544    4.331688e+09           NaN             Monero   \n",
      "9       1512549579    3.231420e+09  4.500000e+10            Cardano   \n",
      "10      1512549556    2.866555e+09           NaN   Ethereum Classic   \n",
      "11      1512549559    2.583927e+09           NaN                NEM   \n",
      "12      1512549570    2.567610e+09           NaN                EOS   \n",
      "13      1512549558    2.452898e+09           NaN                NEO   \n",
      "14      1512549549    2.407074e+09           NaN     Stellar Lumens   \n",
      "15      1512549544    1.119571e+09           NaN           MonaCoin   \n",
      "16      1512549562    1.106525e+09  2.800000e+07         BitConnect   \n",
      "17      1512549553    1.046840e+09           NaN               Lisk   \n",
      "18      1512549559    9.802597e+08           NaN              Zcash   \n",
      "19      1512549572    9.578316e+08           NaN            OmiseGO   \n",
      "20      1512549568    9.147999e+08           NaN               Qtum   \n",
      "21      1512549549    8.150593e+08           NaN             Tether   \n",
      "22      1512549556    7.063190e+08           NaN              Waves   \n",
      "23      1512549559    6.959148e+08           NaN            Stratis   \n",
      "24      1512549571    6.535758e+08  5.325225e+07           Populous   \n",
      "25      1512549574    6.510596e+08  8.400000e+07             Hshare   \n",
      "26      1512549558    5.454317e+08  9.989995e+08              Ardor   \n",
      "27      1512549545    4.771547e+08  3.600571e+09          BitShares   \n",
      "28      1512549560    4.182505e+08  1.844700e+11           Bytecoin   \n",
      "29      1512549568    4.163431e+08           NaN                Ark   \n",
      "...            ...             ...           ...                ...   \n",
      "1296    1512549556             NaN           NaN           Wowecoin   \n",
      "1297    1512549575             NaN           NaN             BITFID   \n",
      "1298    1512416645             NaN           NaN          VegasCoin   \n",
      "1299    1512388746             NaN           NaN     GameLeagueCoin   \n",
      "1300    1512236350             NaN           NaN         BitCentavo   \n",
      "1301    1512515050             NaN           NaN          CyberCoin   \n",
      "1302    1512445464             NaN           NaN            EggCoin   \n",
      "1303    1512462250             NaN           NaN          ShellCoin   \n",
      "1304    1512385451             NaN           NaN       DeltaCredits   \n",
      "1305    1512464652             NaN           NaN             Cashme   \n",
      "1306    1512548652             NaN           NaN                 X2   \n",
      "1307    1512499755             NaN           NaN           Opescoin   \n",
      "1308    1512516857             NaN           NaN       BitAlphaCoin   \n",
      "1309    1512473656             NaN           NaN         Psilocybin   \n",
      "1310    1512290953             NaN           NaN               OCOW   \n",
      "1311    1512494057             NaN           NaN           SafeCoin   \n",
      "1312    1512499760             NaN           NaN           PokeCoin   \n",
      "1313    1512274759             NaN           NaN         SportsCoin   \n",
      "1314    1512525562             NaN           NaN            Omicron   \n",
      "1315    1512538164             NaN           NaN            PinkDog   \n",
      "1316    1511625871             NaN           NaN           TeraCoin   \n",
      "1317    1512533665             NaN           NaN            ZSEcoin   \n",
      "1318    1512256762             NaN           NaN               BIXC   \n",
      "1319    1512485969             NaN           NaN           Tyrocoin   \n",
      "1320    1512545967             NaN  2.941134e+06             PiCoin   \n",
      "1321    1512368664             NaN           NaN          TurboCoin   \n",
      "1322    1512535772             NaN           NaN              Birds   \n",
      "1323    1512548078             NaN           NaN  BitcoinCashScrypt   \n",
      "1324    1512540278             NaN           NaN          Swisscoin   \n",
      "1325    1512435283             NaN           NaN          Faceblock   \n",
      "\n",
      "      percent_change_1h  percent_change_24h  percent_change_7d     price_btc  \\\n",
      "0                  0.12                7.33              17.45  1.000000e+00   \n",
      "1                 -0.18               -3.93              -7.33  3.617670e-02   \n",
      "2                  1.65               -5.51              -4.75  1.200500e-01   \n",
      "3                 -2.38               83.35             255.82  4.241800e-04   \n",
      "4                  0.56               -3.70             -14.79  1.932000e-05   \n",
      "5                  1.22               -3.31              10.64  5.985610e-02   \n",
      "6                 -0.17                0.80               3.68  8.315530e-03   \n",
      "7                 -0.86               -8.65             -11.24  2.355880e-02   \n",
      "8                 -2.00               25.65              41.23  2.241770e-02   \n",
      "9                 -0.28               -5.80              -8.25  9.960000e-06   \n",
      "10                -0.20               -3.47              -7.70  2.334760e-03   \n",
      "11                -0.70               -0.39              14.56  2.295000e-05   \n",
      "12                 2.26               29.56              69.66  3.946600e-04   \n",
      "13                 1.24               -7.28               0.20  3.016000e-03   \n",
      "14                -2.71               39.48              51.09  1.079000e-05   \n",
      "15                17.10              109.98             251.44  1.603050e-03   \n",
      "16                 0.49                3.70              15.49  2.776020e-02   \n",
      "17                 1.06               -2.52              15.79  7.234900e-04   \n",
      "18                -0.99                9.00              -2.20  2.824040e-02   \n",
      "19                -0.72               -8.06               3.93  7.501900e-04   \n",
      "20                 0.36               -9.85             -16.12  9.920800e-04   \n",
      "21                 0.17               -0.07              -0.06  8.002000e-05   \n",
      "22                 0.97               -4.33              22.21  5.645000e-04   \n",
      "23                 1.48               -6.64              16.87  5.638000e-04   \n",
      "24                -0.39               16.05              48.46  1.266230e-03   \n",
      "25                 0.24               -9.33             -18.18  1.229030e-03   \n",
      "26                 1.28               -6.55              52.61  4.364000e-05   \n",
      "27                 4.99                9.20               9.18  1.465000e-05   \n",
      "28                -2.43                0.39              26.99  1.800000e-07   \n",
      "29                 0.29               -2.28              26.98  3.396000e-04   \n",
      "...                 ...                 ...                ...           ...   \n",
      "1296                NaN                0.00              -0.00  8.150000e-06   \n",
      "1297               0.54                 NaN              17.46  1.000000e-05   \n",
      "1298                NaN                 NaN             -52.64  1.000000e-08   \n",
      "1299                NaN                 NaN               3.69  7.900000e-07   \n",
      "1300                NaN                 NaN             -66.64  3.000000e-11   \n",
      "1301                NaN               -0.03              10.43  1.000000e-08   \n",
      "1302                NaN                 NaN               8.99  3.800000e-06   \n",
      "1303                NaN                0.73             -27.84  1.980000e-06   \n",
      "1304                NaN                 NaN                NaN  1.513000e-05   \n",
      "1305                NaN                0.77              11.23  1.000000e-08   \n",
      "1306               0.21                5.94                NaN  1.000000e-08   \n",
      "1307                NaN               -0.42              21.64  2.100000e-07   \n",
      "1308                NaN                0.07               4.09  3.200000e-07   \n",
      "1309                NaN               -0.72             -16.79  1.820000e-06   \n",
      "1310                NaN                 NaN              -8.70  4.400000e-07   \n",
      "1311                NaN               -1.12               9.27  1.000000e-08   \n",
      "1312                NaN               -0.43              26.93  2.000000e-08   \n",
      "1313                NaN                 NaN              10.97  1.100000e-07   \n",
      "1314                NaN                0.89               8.59  1.131000e-05   \n",
      "1315                NaN                3.71             -42.70  1.000000e-08   \n",
      "1316                NaN                 NaN                NaN  1.000000e-08   \n",
      "1317                NaN                3.85             -11.44  9.200000e-07   \n",
      "1318                NaN                 NaN               0.99  4.007800e-04   \n",
      "1319                NaN              -79.02             -87.43  1.500000e-07   \n",
      "1320              -0.09                9.79                NaN  2.200000e-07   \n",
      "1321                NaN                 NaN               8.12  1.000000e-08   \n",
      "1322                NaN               10.62             -42.10  1.000000e-08   \n",
      "1323              -0.37              -37.39             -27.69  5.000000e-07   \n",
      "1324                NaN                4.39             -22.84  1.000000e-08   \n",
      "1325                NaN                 NaN              -6.83  1.400000e-07   \n",
      "\n",
      "         price_usd  rank symbol  total_supply  \n",
      "0     1.273950e+04     1    BTC  1.672352e+07  \n",
      "1     4.526520e+02     2    ETH  9.616537e+07  \n",
      "2     1.502090e+03     3    BCH  1.684044e+07  \n",
      "3     5.307460e+00     4  MIOTA  2.779530e+09  \n",
      "4     2.417540e-01     5    XRP  9.999309e+10  \n",
      "5     7.489350e+02     6   DASH  7.736420e+06  \n",
      "6     1.040460e+02     7    LTC  5.415391e+07  \n",
      "7     2.947740e+02     8    BTG  1.679097e+07  \n",
      "8     2.804960e+02     9    XMR  1.544296e+07  \n",
      "9     1.246350e-01    10    ADA  3.111248e+10  \n",
      "10    2.921310e+01    11    ETC  9.812566e+07  \n",
      "11    2.871030e-01    12    XEM  9.000000e+09  \n",
      "12    4.938100e+00    13    EOS  1.000000e+09  \n",
      "13    3.773690e+01    14    NEO  1.000000e+08  \n",
      "14    1.349720e-01    15    XLM  1.034916e+11  \n",
      "15    2.005780e+01    16   MONA  5.581722e+07  \n",
      "16    3.473420e+02    17    BCC  8.392580e+06  \n",
      "17    9.052500e+00    18    LSK  1.156410e+08  \n",
      "18    3.533510e+02    19    ZEC  2.774181e+06  \n",
      "19    9.386590e+00    20    OMG  1.402454e+08  \n",
      "20    1.241310e+01    21   QTUM  1.001963e+08  \n",
      "21    1.001280e+00    22   USDT  8.449995e+08  \n",
      "22    7.063190e+00    23  WAVES  1.000000e+08  \n",
      "23    7.054400e+00    24  STRAT  9.864974e+07  \n",
      "24    1.584340e+01    25    PPT  5.325225e+07  \n",
      "25    1.537800e+01    26    HSR  4.233708e+07  \n",
      "26    5.459780e-01    27   ARDR  9.989995e+08  \n",
      "27    1.832490e-01    28    BTS  2.603860e+09  \n",
      "28    2.282360e-03    29    BCN  1.832535e+11  \n",
      "29    4.249210e+00    30    ARK  1.292313e+08  \n",
      "...            ...   ...    ...           ...  \n",
      "1296  1.020000e-01  1297    WEC  8.901692e+06  \n",
      "1297  1.251230e-01  1298    FID           NaN  \n",
      "1298  1.120000e-04  1299    VGC           NaN  \n",
      "1299  8.832210e-03  1300    GML           NaN  \n",
      "1300  3.269000e-07  1301    NBE           NaN  \n",
      "1301  1.176560e-04  1302     CC  5.492675e+08  \n",
      "1302  4.410930e-02  1303    EGG           NaN  \n",
      "1303  2.337040e-02  1304  SHELL  9.174170e+07  \n",
      "1304  1.718640e-01  1305   DCRE           NaN  \n",
      "1305  1.184620e-04  1306    CME           NaN  \n",
      "1306  1.247080e-04  1307     X2           NaN  \n",
      "1307  2.461290e-03  1308   OPES           NaN  \n",
      "1308  3.769280e-03  1309    BAC           NaN  \n",
      "1309  2.126970e-02  1310    PSY           NaN  \n",
      "1310  4.898870e-03  1311   OCOW           NaN  \n",
      "1311  1.163760e-04  1312    SFE           NaN  \n",
      "1312  2.344090e-04  1313   POKE           NaN  \n",
      "1313  1.215830e-03  1314  SPORT  1.980000e+07  \n",
      "1314  1.343190e-01  1315    OMC  1.014004e+07  \n",
      "1315  1.221060e-04  1316    PDG           NaN  \n",
      "1316  8.607040e-05  1317   TERA  9.223372e+10  \n",
      "1317  1.124870e-02  1318    ZSE  6.768156e+06  \n",
      "1318  4.411970e+00  1319   BIXC  2.100000e+08  \n",
      "1319  1.770120e-03  1320    TYC  5.062930e+07  \n",
      "1320  2.737830e-03  1321     PI  1.378369e+06  \n",
      "1321  1.144930e-04  1322  TURBO           NaN  \n",
      "1322  1.219770e-04  1323  BIRDS           NaN  \n",
      "1323  6.201720e-03  1324   BCCS  2.502380e+06  \n",
      "1324  1.229050e-04  1325    SIC  1.020000e+10  \n",
      "1325  1.654310e-03  1326    FBL  1.000000e+07  \n",
      "\n",
      "[1326 rows x 16 columns]\n"
     ]
    }
   ],
   "source": [
    "# Reading datasets/coinmarketcap_06122017.csv into pandas\n",
    "import pandas as pd\n",
    "\n",
    "dec6 = pd.read_csv('datasets/coinmarketcap_06122017.csv')\n",
    "\n",
    "\n",
    "# Selecting the 'id' and the 'market_cap_usd' columns\n",
    "market_cap_raw = dec6.\n",
    "\n",
    "# Counting the number of values\n",
    "# ... YOUR CODE FOR TASK 2 ..."
   ]
  },
  {
   "cell_type": "markdown",
   "metadata": {
    "dc": {
     "key": "18"
    },
    "deletable": false,
    "editable": false,
    "run_control": {
     "frozen": true
    },
    "tags": [
     "context"
    ]
   },
   "source": [
    "## 3. Discard the cryptocurrencies without a market capitalization\n",
    "<p>Why do the <code>count()</code> for <code>id</code> and <code>market_cap_usd</code> differ above? It is because some cryptocurrencies listed in coinmarketcap.com have no known market capitalization, this is represented by <code>NaN</code> in the data, and <code>NaN</code>s are not counted by <code>count()</code>. These cryptocurrencies are of little interest to us in this analysis, so they are safe to remove.</p>"
   ]
  },
  {
   "cell_type": "code",
   "execution_count": 4,
   "metadata": {
    "dc": {
     "key": "18"
    },
    "tags": [
     "sample_code"
    ]
   },
   "outputs": [
    {
     "ename": "AttributeError",
     "evalue": "'ellipsis' object has no attribute 'query'",
     "output_type": "error",
     "traceback": [
      "\u001b[1;31m---------------------------------------------------------------------------\u001b[0m",
      "\u001b[1;31mAttributeError\u001b[0m                            Traceback (most recent call last)",
      "\u001b[1;32m<ipython-input-4-5f36fd5fc0f6>\u001b[0m in \u001b[0;36m<module>\u001b[1;34m()\u001b[0m\n\u001b[0;32m      1\u001b[0m \u001b[1;31m# Filtering out rows without a market capitalization\u001b[0m\u001b[1;33m\u001b[0m\u001b[1;33m\u001b[0m\u001b[0m\n\u001b[1;32m----> 2\u001b[1;33m \u001b[0mcap\u001b[0m \u001b[1;33m=\u001b[0m \u001b[0mmarket_cap_raw\u001b[0m\u001b[1;33m.\u001b[0m\u001b[0mquery\u001b[0m\u001b[1;33m(\u001b[0m\u001b[1;34m'market_cap_usd > 0'\u001b[0m\u001b[1;33m)\u001b[0m\u001b[1;33m\u001b[0m\u001b[0m\n\u001b[0m\u001b[0;32m      3\u001b[0m \u001b[1;33m\u001b[0m\u001b[0m\n\u001b[0;32m      4\u001b[0m \u001b[1;31m# Counting the number of values again\u001b[0m\u001b[1;33m\u001b[0m\u001b[1;33m\u001b[0m\u001b[0m\n\u001b[0;32m      5\u001b[0m \u001b[1;31m# ... YOUR CODE FOR TASK 3 ...\u001b[0m\u001b[1;33m\u001b[0m\u001b[1;33m\u001b[0m\u001b[0m\n",
      "\u001b[1;31mAttributeError\u001b[0m: 'ellipsis' object has no attribute 'query'"
     ]
    }
   ],
   "source": [
    "# Filtering out rows without a market capitalization\n",
    "cap = market_cap_raw.query('market_cap_usd > 0')\n",
    "\n",
    "# Counting the number of values again\n",
    "# ... YOUR CODE FOR TASK 3 ..."
   ]
  },
  {
   "cell_type": "markdown",
   "metadata": {
    "dc": {
     "key": "25"
    },
    "deletable": false,
    "editable": false,
    "run_control": {
     "frozen": true
    },
    "tags": [
     "context"
    ]
   },
   "source": [
    "## 4. How big is Bitcoin compared with the rest of the cryptocurrencies?\n",
    "<p>At the time of writing, Bitcoin is under serious competition from other projects, but it is still dominant in market capitalization. Let's plot the market capitalization for the top 10 coins as a barplot to better visualize this.</p>"
   ]
  },
  {
   "cell_type": "code",
   "execution_count": null,
   "metadata": {
    "collapsed": true,
    "dc": {
     "key": "25"
    },
    "tags": [
     "sample_code"
    ]
   },
   "outputs": [],
   "source": [
    "#Declaring these now for later use in the plots\n",
    "TOP_CAP_TITLE = 'Top 10 market capitalization'\n",
    "TOP_CAP_YLABEL = '% of total cap'\n",
    "\n",
    "# Selecting the first 10 rows and setting the index\n",
    "cap10 = ...\n",
    "\n",
    "# Calculating market_cap_perc\n",
    "cap10 = ...\n",
    "\n",
    "# Plotting the barplot with the title defined above \n",
    "ax = ...\n",
    "\n",
    "# Annotating the y axis with the label defined above\n",
    "# ... YOUR CODE FOR TASK 4 ..."
   ]
  },
  {
   "cell_type": "markdown",
   "metadata": {
    "dc": {
     "key": "32"
    },
    "deletable": false,
    "editable": false,
    "run_control": {
     "frozen": true
    },
    "tags": [
     "context"
    ]
   },
   "source": [
    "## 5. Making the plot easier to read and more informative\n",
    "<p>While the plot above is informative enough, it can be improved. Bitcoin is too big, and the other coins are hard to distinguish because of this. Instead of the percentage, let's use a log<sup>10</sup> scale of the \"raw\" capitalization. Plus, let's use color to group similar coins and make the plot more informative<sup>1</sup>. </p>\n",
    "<p>For the colors rationale: bitcoin-cash and bitcoin-gold are forks of the bitcoin <a href=\"https://en.wikipedia.org/wiki/Blockchain\">blockchain</a><sup>2</sup>. Ethereum and Cardano both offer Turing Complete <a href=\"https://en.wikipedia.org/wiki/Smart_contract\">smart contracts</a>. Iota and Ripple are not minable. Dash, Litecoin, and Monero get their own color.</p>\n",
    "<p><sup>1</sup> <em>This coloring is a simplification. There are more differences and similarities that are not being represented here.</em></p>\n",
    "<p><sup>2</sup> <em>The bitcoin forks are actually <strong>very</strong> different, but it is out of scope to talk about them here. Please see the warning above and do your own research.</em></p>"
   ]
  },
  {
   "cell_type": "code",
   "execution_count": null,
   "metadata": {
    "collapsed": true,
    "dc": {
     "key": "32"
    },
    "tags": [
     "sample_code"
    ]
   },
   "outputs": [],
   "source": [
    "# Colors for the bar plot\n",
    "COLORS = ['orange', 'green', 'orange', 'cyan', 'cyan', 'blue', 'silver', 'orange', 'red', 'green']\n",
    "\n",
    "# Plotting market_cap_usd as before but adding the colors and scaling the y-axis  \n",
    "ax = ...\n",
    "\n",
    "# Annotating the y axis with 'USD'\n",
    "# ... YOUR CODE FOR TASK 5 ...\n",
    "\n",
    "# Final touch! Removing the xlabel as it is not very informative\n",
    "# ... YOUR CODE FOR TASK 5 ..."
   ]
  },
  {
   "cell_type": "markdown",
   "metadata": {
    "dc": {
     "key": "39"
    },
    "deletable": false,
    "editable": false,
    "run_control": {
     "frozen": true
    },
    "tags": [
     "context"
    ]
   },
   "source": [
    "## 6. What is going on?! Volatility in cryptocurrencies\n",
    "<p>The cryptocurrencies market has been spectacularly volatile since the first exchange opened. This notebook didn't start with a big, bold warning for nothing. Let's explore this volatility a bit more! We will begin by selecting and plotting the 24 hours and 7 days percentage change, which we already have available.</p>"
   ]
  },
  {
   "cell_type": "code",
   "execution_count": null,
   "metadata": {
    "collapsed": true,
    "dc": {
     "key": "39"
    },
    "tags": [
     "sample_code"
    ]
   },
   "outputs": [],
   "source": [
    "# Selecting the id, percent_change_24h and percent_change_7d columns\n",
    "volatility = ...\n",
    "\n",
    "# Setting the index to 'id' and dropping all NaN rows\n",
    "volatility = ...\n",
    "\n",
    "# Sorting the DataFrame by percent_change_24h in ascending order\n",
    "volatility = ...\n",
    "\n",
    "# Checking the first few rows\n",
    "# ... YOUR CODE FOR TASK 6 ..."
   ]
  },
  {
   "cell_type": "markdown",
   "metadata": {
    "dc": {
     "key": "46"
    },
    "deletable": false,
    "editable": false,
    "run_control": {
     "frozen": true
    },
    "tags": [
     "context"
    ]
   },
   "source": [
    "## 7. Well, we can already see that things are *a bit* crazy\n",
    "<p>It seems you can lose a lot of money quickly on cryptocurrencies. Let's plot the top 10 biggest gainers and top 10 losers in market capitalization.</p>"
   ]
  },
  {
   "cell_type": "code",
   "execution_count": null,
   "metadata": {
    "collapsed": true,
    "dc": {
     "key": "46"
    },
    "tags": [
     "sample_code"
    ]
   },
   "outputs": [],
   "source": [
    "#Defining a function with 2 parameters, the series to plot and the title\n",
    "def top10_subplot(volatility_series, title):\n",
    "    # Making the subplot and the figure for two side by side plots\n",
    "    fig, axes = plt.subplots(nrows=1, ncols=2, figsize=(10, 6))\n",
    "    \n",
    "    # Plotting with pandas the barchart for the top 10 losers\n",
    "    ax = ...\n",
    "    \n",
    "    # Setting the figure's main title to the text passed as parameter\n",
    "    # ... YOUR CODE FOR TASK 7 ...\n",
    "    \n",
    "    # Setting the ylabel to '% change'\n",
    "    # ... YOUR CODE FOR TASK 7 ...\n",
    "    \n",
    "    # Same as above, but for the top 10 winners\n",
    "    ax = ...\n",
    "    \n",
    "    # Returning this for good practice, might use later\n",
    "    return fig, ax\n",
    "\n",
    "DTITLE = \"24 hours top losers and winners\"\n",
    "\n",
    "# Calling the function above with the 24 hours period series and title DTITLE  \n",
    "fig, ax = ..."
   ]
  },
  {
   "cell_type": "markdown",
   "metadata": {
    "dc": {
     "key": "53"
    },
    "deletable": false,
    "editable": false,
    "run_control": {
     "frozen": true
    },
    "tags": [
     "context"
    ]
   },
   "source": [
    "## 8. Ok, those are... interesting. Let's check the weekly Series too.\n",
    "<p>800% daily increase?! Why are we doing this tutorial and not buying random coins?<sup>1</sup></p>\n",
    "<p>After calming down, let's reuse the function defined above to see what is going weekly instead of daily.</p>\n",
    "<p><em><sup>1</sup> Please take a moment to understand the implications of the red plots on how much value some cryptocurrencies lose in such short periods of time</em></p>"
   ]
  },
  {
   "cell_type": "code",
   "execution_count": null,
   "metadata": {
    "collapsed": true,
    "dc": {
     "key": "53"
    },
    "tags": [
     "sample_code"
    ]
   },
   "outputs": [],
   "source": [
    "# Sorting in ascending order\n",
    "volatility7d = ...\n",
    "\n",
    "WTITLE = \"Weekly top losers and winners\"\n",
    "\n",
    "# Calling the top10_subplot function\n",
    "fig, ax = ..."
   ]
  },
  {
   "cell_type": "markdown",
   "metadata": {
    "dc": {
     "key": "60"
    },
    "deletable": false,
    "editable": false,
    "run_control": {
     "frozen": true
    },
    "tags": [
     "context"
    ]
   },
   "source": [
    "## 9. How small is small?\n",
    "<p>The names of the cryptocurrencies above are quite unknown, and there is a considerable fluctuation between the 1 and 7 days percentage changes. As with stocks, and many other financial products, the smaller the capitalization, the bigger the risk and reward. Smaller cryptocurrencies are less stable projects in general, and therefore even riskier investments than the bigger ones<sup>1</sup>. Let's classify our dataset based on Investopedia's capitalization <a href=\"https://www.investopedia.com/video/play/large-cap/\">definitions</a> for company stocks. </p>\n",
    "<p><sup>1</sup> <em>Cryptocurrencies are a new asset class, so they are not directly comparable to stocks. Furthermore, there are no limits set in stone for what a \"small\" or \"large\" stock is. Finally, some investors argue that bitcoin is similar to gold, this would make them more comparable to a <a href=\"https://www.investopedia.com/terms/c/commodity.asp\">commodity</a> instead.</em></p>"
   ]
  },
  {
   "cell_type": "code",
   "execution_count": null,
   "metadata": {
    "collapsed": true,
    "dc": {
     "key": "60"
    },
    "tags": [
     "sample_code"
    ]
   },
   "outputs": [],
   "source": [
    "# Selecting everything bigger than 10 billion \n",
    "largecaps = ...\n",
    "\n",
    "# Printing out largecaps\n",
    "# ... YOUR CODE FOR TASK 9 ..."
   ]
  },
  {
   "cell_type": "markdown",
   "metadata": {
    "dc": {
     "key": "67"
    },
    "deletable": false,
    "editable": false,
    "run_control": {
     "frozen": true
    },
    "tags": [
     "context"
    ]
   },
   "source": [
    "## 10. Most coins are tiny\n",
    "<p>Note that many coins are not comparable to large companies in market cap, so let's divert from the original Investopedia definition by merging categories.</p>\n",
    "<p><em>This is all for now. Thanks for completing this project!</em></p>"
   ]
  },
  {
   "cell_type": "code",
   "execution_count": null,
   "metadata": {
    "collapsed": true,
    "dc": {
     "key": "67"
    },
    "tags": [
     "sample_code"
    ]
   },
   "outputs": [],
   "source": [
    "# Making a nice function for counting different marketcaps from the\n",
    "# \"cap\" DataFrame. Returns an int.\n",
    "# INSTRUCTORS NOTE: Since you made it to the end, consider it a gift :D\n",
    "def capcount(query_string):\n",
    "    return cap.query(query_string).count().id\n",
    "\n",
    "# Labels for the plot\n",
    "LABELS = [\"biggish\", \"micro\", \"nano\"]\n",
    "\n",
    "# Using capcount count the biggish cryptos\n",
    "biggish = ...\n",
    "\n",
    "# Same as above for micro ...\n",
    "micro = ...\n",
    "\n",
    "# ... and for nano\n",
    "nano =  ...\n",
    "\n",
    "# Making a list with the 3 counts\n",
    "values = ...\n",
    "\n",
    "# Plotting them with matplotlib \n",
    "# ... YOUR CODE FOR TASK 10 ..."
   ]
  }
 ],
 "metadata": {
  "kernelspec": {
   "display_name": "Python 3",
   "language": "python",
   "name": "python3"
  },
  "language_info": {
   "codemirror_mode": {
    "name": "ipython",
    "version": 3
   },
   "file_extension": ".py",
   "mimetype": "text/x-python",
   "name": "python",
   "nbconvert_exporter": "python",
   "pygments_lexer": "ipython3",
   "version": "3.6.3"
  }
 },
 "nbformat": 4,
 "nbformat_minor": 2
}

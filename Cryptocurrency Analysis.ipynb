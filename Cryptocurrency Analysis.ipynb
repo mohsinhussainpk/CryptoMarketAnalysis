{
 "cells": [
  {
   "cell_type": "markdown",
   "metadata": {
    "dc": {
     "key": "4"
    },
    "deletable": false,
    "editable": false,
    "run_control": {
     "frozen": true
    },
    "tags": [
     "context"
    ]
   },
   "source": [
    "## 1. Bitcoin. Cryptocurrencies. So hot right now.\n",
    "<p>Since the <a href=\"https://newfronttest.bitcoin.com/bitcoin.pdf\">launch of Bitcoin in 2008</a>, hundreds of similar projects based on the blockchain technology have emerged. We call these cryptocurrencies (also coins or cryptos in the Internet slang). Some are extremely valuable nowadays, and others may have the potential to become extremely valuable in the future<sup>1</sup>. In fact, the 6th of December of 2017 Bitcoin has a <a href=\"https://en.wikipedia.org/wiki/Market_capitalization\">market capitalization</a> above $200 billion. </p>\n",
    "<p><center>\n",
    "<img src=\"https://s3.amazonaws.com/assets.datacamp.com/production/project_82/img/bitcoint_market_cap_2017.png\" style=\"width:500px\"> <br> \n",
    "<em>The astonishing increase of Bitcoin market capitalization in 2017.</em></center></p>\n",
    "<p>*<sup>1</sup>- <strong>WARNING</strong>: The cryptocurrency market is exceptionally volatile and any money you put in might disappear into thin air.  Cryptocurrencies mentioned here <strong>might be scams</strong> similar to <a href=\"https://en.wikipedia.org/wiki/Ponzi_scheme\">Ponzi Schemes</a> or have many other issues (overvaluation, technical, etc.). <strong>Please do not mistake this for investment advice</strong>. *</p>\n",
    "<p>That said, let's get to business. As a first task, we will load the current data from the <a href=\"https://api.coinmarketcap.com\">coinmarketcap API</a> and display it in the output.</p>"
   ]
  },
  {
   "cell_type": "code",
   "execution_count": null,
   "metadata": {
    "dc": {
     "key": "4"
    },
    "tags": [
     "sample_code"
    ]
   },
   "outputs": [],
   "source": [
    "# Importing pandas\n",
    "import pandas as pd\n",
    "import math\n",
    "import numpy as np\n",
    "\n",
    "# Importing matplotlib and setting aesthetics for plotting later.\n",
    "import matplotlib.pyplot as plt\n",
    "%matplotlib inline\n",
    "%config InlineBackend.figure_format = 'svg' \n",
    "plt.style.use('fivethirtyeight')\n",
    "\n",
    "# Reading in current data from coinmarketcap.com\n",
    "url = \"https://api.coinmarketcap.com/v1/ticker/?limit=10\"\n",
    "\n",
    "data = pd.read_json(url)\n",
    "df = pd.DataFrame(data)\n",
    "\n",
    "df.head()\n",
    "\n",
    "#current =  \n",
    "\n",
    "# Printing out the first few lines\n",
    "# ... YOUR CODE FOR TASK 1 ..."
   ]
  },
  {
   "cell_type": "markdown",
   "metadata": {
    "dc": {
     "key": "11"
    },
    "deletable": false,
    "editable": false,
    "run_control": {
     "frozen": true
    },
    "tags": [
     "context"
    ]
   },
   "source": [
    "## 2. Full dataset, filtering, and reproducibility\n",
    "<p>The previous API call returns only the first 100 coins, and we want to explore as many coins as possible. Moreover, we can't produce reproducible analysis with live online data. To solve these problems, we will load a CSV we conveniently saved on the 6th of December of 2017 using the API call <code>https://api.coinmarketcap.com/v1/ticker/?limit=0</code> named <code>datasets/coinmarketcap_06122017.csv</code>. </p>"
   ]
  },
  {
   "cell_type": "code",
   "execution_count": null,
   "metadata": {
    "dc": {
     "key": "11"
    },
    "tags": [
     "sample_code"
    ]
   },
   "outputs": [],
   "source": [
    "# Reading datasets/coinmarketcap_06122017.csv into pandas\n",
    "\n",
    "dec6 = pd.read_csv('datasets/coinmarketcap_06122017.csv')\n",
    "# Selecting the 'id' and the 'market_cap_usd' columns\n",
    "\n",
    "market_cap_raw = dec6[['id','market_cap_usd']] \n",
    "(market_cap_raw.head())\n",
    "# Counting the number of values\n",
    "# ... YOUR CODE FOR TASK 2 ...\n",
    "market_cap_raw.count()\n",
    "\n",
    "dec6.head()\n"
   ]
  },
  {
   "cell_type": "markdown",
   "metadata": {
    "dc": {
     "key": "18"
    },
    "deletable": false,
    "editable": false,
    "run_control": {
     "frozen": true
    },
    "tags": [
     "context"
    ]
   },
   "source": [
    "## 3. Discard the cryptocurrencies without a market capitalization\n",
    "<p>Why do the <code>count()</code> for <code>id</code> and <code>market_cap_usd</code> differ above? It is because some cryptocurrencies listed in coinmarketcap.com have no known market capitalization, this is represented by <code>NaN</code> in the data, and <code>NaN</code>s are not counted by <code>count()</code>. These cryptocurrencies are of little interest to us in this analysis, so they are safe to remove.</p>"
   ]
  },
  {
   "cell_type": "code",
   "execution_count": null,
   "metadata": {
    "dc": {
     "key": "18"
    },
    "tags": [
     "sample_code"
    ]
   },
   "outputs": [],
   "source": [
    "# Filtering out rows without a market capitalization\n",
    "cap = market_cap_raw.query('market_cap_usd > 0')\n",
    "\n",
    "# Counting the number of values again\n",
    "# ... YOUR CODE FOR TASK 3 ...\n",
    "cap.head()\n",
    "cap.count()"
   ]
  },
  {
   "cell_type": "markdown",
   "metadata": {
    "dc": {
     "key": "25"
    },
    "deletable": false,
    "editable": false,
    "run_control": {
     "frozen": true
    },
    "tags": [
     "context"
    ]
   },
   "source": [
    "## 4. How big is Bitcoin compared with the rest of the cryptocurrencies?\n",
    "<p>At the time of writing, Bitcoin is under serious competition from other projects, but it is still dominant in market capitalization. Let's plot the market capitalization for the top 10 coins as a barplot to better visualize this.</p>"
   ]
  },
  {
   "cell_type": "code",
   "execution_count": null,
   "metadata": {
    "dc": {
     "key": "25"
    },
    "scrolled": true,
    "tags": [
     "sample_code"
    ]
   },
   "outputs": [],
   "source": [
    "#Declaring these now for later use in the plots\n",
    "TOP_CAP_TITLE = 'Top 10 market capitalization'\n",
    "TOP_CAP_YLABEL = '% of total cap'\n",
    "\n",
    "\n",
    "# Selecting the first 10 rows and setting the index\n",
    "cap10 = cap.head(10)\n",
    "\n",
    "total_market_cap = cap.loc[:,'market_cap_usd']\n",
    "labels = cap10.loc[:,'id']\n",
    "\n",
    "totalcap = total_market_cap.values.sum()\n",
    "\n",
    "\n",
    "cap10['market_percentage'] = (cap10.market_cap_usd / totalcap) * 100\n",
    "market_percentage = cap10.loc[:,'market_percentage']\n",
    "\n",
    "# Plotting the barplot with the title defined above \n",
    "#ax = ...\n",
    "\n",
    "plt.bar(labels, market_percentage)\n",
    "plt.xlabel('cryptos', fontsize=10)\n",
    "plt.title(TOP_CAP_TITLE)\n",
    "plt.xticks(fontsize=5, rotation=30)\n",
    "\n",
    "    \n",
    "# Annotating the y axis with the label defined above\n",
    "# ... YOUR CODE FOR TASK 4 ...\n",
    "plt.ylabel(TOP_CAP_YLABEL, fontsize=10)\n",
    "\n",
    " \n",
    "plt.show()\n"
   ]
  },
  {
   "cell_type": "markdown",
   "metadata": {
    "dc": {
     "key": "32"
    },
    "deletable": false,
    "editable": false,
    "run_control": {
     "frozen": true
    },
    "tags": [
     "context"
    ]
   },
   "source": [
    "## 5. Making the plot easier to read and more informative\n",
    "<p>While the plot above is informative enough, it can be improved. Bitcoin is too big, and the other coins are hard to distinguish because of this. Instead of the percentage, let's use a log<sup>10</sup> scale of the \"raw\" capitalization. Plus, let's use color to group similar coins and make the plot more informative<sup>1</sup>. </p>\n",
    "<p>For the colors rationale: bitcoin-cash and bitcoin-gold are forks of the bitcoin <a href=\"https://en.wikipedia.org/wiki/Blockchain\">blockchain</a><sup>2</sup>. Ethereum and Cardano both offer Turing Complete <a href=\"https://en.wikipedia.org/wiki/Smart_contract\">smart contracts</a>. Iota and Ripple are not minable. Dash, Litecoin, and Monero get their own color.</p>\n",
    "<p><sup>1</sup> <em>This coloring is a simplification. There are more differences and similarities that are not being represented here.</em></p>\n",
    "<p><sup>2</sup> <em>The bitcoin forks are actually <strong>very</strong> different, but it is out of scope to talk about them here. Please see the warning above and do your own research.</em></p>"
   ]
  },
  {
   "cell_type": "code",
   "execution_count": null,
   "metadata": {
    "dc": {
     "key": "32"
    },
    "tags": [
     "sample_code"
    ]
   },
   "outputs": [],
   "source": [
    "# Colors for the bar plot\n",
    "COLORS = ['orange', 'green', 'cyan',  'blue', 'silver', 'red']\n",
    "\n",
    "# Plotting market_cap_usd as before but adding the colors and scaling the y-axis  \n",
    "#ax = ...\n",
    "\n",
    "cap10['market_cap_log'] = np.log10(cap10.loc[:,'market_cap_usd'])\n",
    "\n",
    "cap10.head(10)\n",
    "\n",
    "market_cap_log = cap10.loc[:,'market_cap_log']\n",
    "\n",
    "barlist=plt.bar(labels, market_cap_log)\n",
    "barlist[0].set_color(COLORS[0])\n",
    "barlist[1].set_color(COLORS[1])\n",
    "barlist[2].set_color(COLORS[1])\n",
    "barlist[3].set_color(COLORS[2])\n",
    "barlist[4].set_color(COLORS[3])\n",
    "barlist[5].set_color(COLORS[2])\n",
    "barlist[6].set_color(COLORS[4])\n",
    "barlist[7].set_color(COLORS[1])\n",
    "barlist[8].set_color(COLORS[5])\n",
    "barlist[9].set_color(COLORS[5])\n",
    "plt.title(TOP_CAP_TITLE)\n",
    "plt.xticks(fontsize=5, rotation=30)\n",
    "\n",
    "\n",
    "# Annotating the y axis with 'USD'\n",
    "# ... YOUR CODE FOR TASK 5 ...\n",
    "plt.ylabel('USD', fontsize=10)\n",
    "\n",
    "# Final touch! Removing the xlabel as it is not very informative\n",
    "# ... YOUR CODE FOR TASK 5 ...\n",
    "\n",
    "plt.show()\n"
   ]
  },
  {
   "cell_type": "markdown",
   "metadata": {
    "dc": {
     "key": "39"
    },
    "deletable": false,
    "editable": false,
    "run_control": {
     "frozen": true
    },
    "tags": [
     "context"
    ]
   },
   "source": [
    "## 6. What is going on?! Volatility in cryptocurrencies\n",
    "<p>The cryptocurrencies market has been spectacularly volatile since the first exchange opened. This notebook didn't start with a big, bold warning for nothing. Let's explore this volatility a bit more! We will begin by selecting and plotting the 24 hours and 7 days percentage change, which we already have available.</p>"
   ]
  },
  {
   "cell_type": "code",
   "execution_count": null,
   "metadata": {
    "dc": {
     "key": "39"
    },
    "tags": [
     "sample_code"
    ]
   },
   "outputs": [],
   "source": [
    "# Selecting the id, percent_change_24h and percent_change_7d columns\n",
    "#volatility = ...\n",
    "\n",
    "market_id_24h_7d = dec6[['id','percent_change_24h','percent_change_7d','market_cap_usd']] \n",
    "\n",
    "\n",
    "Volatility_Series = dec6[['id','percent_change_24h','percent_change_7d','market_cap_usd']] \n",
    "\n",
    "\n",
    "# Setting the index to 'id' and dropping all NaN rows\n",
    "#volatility = ...\n",
    "market_id_24h_7d.set_index('id', inplace=True)\n",
    "\n",
    "\n",
    "market_id_24h_7d = market_id_24h_7d.query('market_cap_usd > 0')\n",
    "market_id_24h_7d.head(10)\n",
    "\n",
    "# Sorting the DataFrame by percent_change_24h in ascending order\n",
    "#volatility = ...\n",
    "y_Series = market_id_24h_7d.sort_values('percent_change_7d')\n",
    "\n",
    "# Checking the first few rows\n",
    "# ... YOUR CODE FOR TASK 6 ...\n",
    "y_Series.head(10)\n"
   ]
  },
  {
   "cell_type": "markdown",
   "metadata": {
    "dc": {
     "key": "46"
    },
    "deletable": false,
    "editable": false,
    "run_control": {
     "frozen": true
    },
    "tags": [
     "context"
    ]
   },
   "source": [
    "## 7. Well, we can already see that things are *a bit* crazy\n",
    "<p>It seems you can lose a lot of money quickly on cryptocurrencies. Let's plot the top 10 biggest gainers and top 10 losers in market capitalization.</p>"
   ]
  },
  {
   "cell_type": "code",
   "execution_count": null,
   "metadata": {
    "dc": {
     "key": "46"
    },
    "tags": [
     "sample_code"
    ]
   },
   "outputs": [],
   "source": [
    "#Defining a function with 2 parameters, the series to plot and the title\n",
    "def top10_subplot(volatility_series, title, sortedBy):\n",
    "    # Making the subplot and the figure for two side by side plots\n",
    "    fig, axes = plt.subplots(nrows=1, ncols=2, figsize=(10, 6))\n",
    "    #fig, axes = plt.subplots(2, 2, subplot_kw=dict(polar=True))\n",
    "    \n",
    "\n",
    "    \n",
    "    # Plotting with pandas the barchart for the top 10 losers\n",
    "   # ax = ...\n",
    "        #volatility_series.\n",
    "\n",
    "    percent_change_descending = volatility_series.sort_values(sortedBy, ascending=False)\n",
    "    \n",
    "    percent_change_losers = volatility_series.loc[:,sortedBy].head(10)\n",
    "    percent_change_winners = percent_change_descending.loc[:,sortedBy].head(10)\n",
    "\n",
    "\n",
    "    #label1 = volatility_series.loc[:,'id']\n",
    "\n",
    "    labels_ascending = volatility_series.loc[:,'id'].head(10)\n",
    "    labels_descending = percent_change_descending.loc[:,'id'].head(10)\n",
    "\n",
    "    #labels.head()\n",
    "    #percent_change_7d_losers.head()\n",
    "    \n",
    "    axes[0].bar(labels_descending, percent_change_winners )\n",
    "    #axes[0].tick_params(labelrotation=90)\n",
    "    axes[0].set_title(\"Winners\")\n",
    "    axes[0].set_ylabel(\"Market Capital Usd\")\n",
    "    axes[0].set_xlabel(\"winners\", size = 10)\n",
    " \n",
    "\n",
    "    axes[1].bar(labels_ascending, percent_change_losers)\n",
    "    axes[1].set_title(\"losers\")\n",
    "    #axes[1].tick_params(labelrotation=90)\n",
    "    axes[1].set_ylabel(\"Market Capital Usd\")\n",
    "    axes[1].set_xlabel(\"losers\", size = 10)\n",
    "    \n",
    "\n",
    "\n",
    "\n",
    "\n",
    "    # Setting the figure's main title to the text passed as parameter\n",
    "    # ... YOUR CODE FOR TASK 7 ...\n",
    "    \n",
    "    # Setting the ylabel to '% change'\n",
    "    # ... YOUR CODE FOR TASK 7 ...\n",
    "    \n",
    "    # Same as above, but for the top 10 winners\n",
    "   # ax = ...\n",
    "    \n",
    "    # Returning this for good practice, might use later\n",
    "    #return fig, ax\n",
    "    \n",
    "    return fig, axes\n",
    "DTITLE = \"24 hours top losers and winners\"\n",
    "sortedBy = \"percent_change_24h\"\n",
    "top10_subplot(Volatility_Series.sort_values('percent_change_24h'),DTITLE,sortedBy)\n",
    "# Calling the function above with the 24 hours period series and title DTITLE  \n",
    "#fig, ax = ..."
   ]
  },
  {
   "cell_type": "markdown",
   "metadata": {
    "dc": {
     "key": "53"
    },
    "deletable": false,
    "editable": false,
    "run_control": {
     "frozen": true
    },
    "tags": [
     "context"
    ]
   },
   "source": [
    "## 8. Ok, those are... interesting. Let's check the weekly Series too.\n",
    "<p>800% daily increase?! Why are we doing this tutorial and not buying random coins?<sup>1</sup></p>\n",
    "<p>After calming down, let's reuse the function defined above to see what is going weekly instead of daily.</p>\n",
    "<p><em><sup>1</sup> Please take a moment to understand the implications of the red plots on how much value some cryptocurrencies lose in such short periods of time</em></p>"
   ]
  },
  {
   "cell_type": "code",
   "execution_count": null,
   "metadata": {
    "dc": {
     "key": "53"
    },
    "tags": [
     "sample_code"
    ]
   },
   "outputs": [],
   "source": [
    "# Sorting in ascending order\n",
    "volatility7d = ...\n",
    "\n",
    "WTITLE = \"Weekly top losers and winners\"\n",
    "sortedBy = \"percent_change_7d\" \n",
    "\n",
    "# Calling the top10_subplot function\n",
    "#fig, ax = ...\n",
    "top10_subplot(Volatility_Series.sort_values('percent_change_7d'),WTITLE,sortedBy)\n"
   ]
  },
  {
   "cell_type": "markdown",
   "metadata": {
    "dc": {
     "key": "60"
    },
    "deletable": false,
    "editable": false,
    "run_control": {
     "frozen": true
    },
    "tags": [
     "context"
    ]
   },
   "source": [
    "## 9. How small is small?\n",
    "<p>The names of the cryptocurrencies above are quite unknown, and there is a considerable fluctuation between the 1 and 7 days percentage changes. As with stocks, and many other financial products, the smaller the capitalization, the bigger the risk and reward. Smaller cryptocurrencies are less stable projects in general, and therefore even riskier investments than the bigger ones<sup>1</sup>. Let's classify our dataset based on Investopedia's capitalization <a href=\"https://www.investopedia.com/video/play/large-cap/\">definitions</a> for company stocks. </p>\n",
    "<p><sup>1</sup> <em>Cryptocurrencies are a new asset class, so they are not directly comparable to stocks. Furthermore, there are no limits set in stone for what a \"small\" or \"large\" stock is. Finally, some investors argue that bitcoin is similar to gold, this would make them more comparable to a <a href=\"https://www.investopedia.com/terms/c/commodity.asp\">commodity</a> instead.</em></p>"
   ]
  },
  {
   "cell_type": "code",
   "execution_count": null,
   "metadata": {
    "dc": {
     "key": "60"
    },
    "tags": [
     "sample_code"
    ]
   },
   "outputs": [],
   "source": [
    "# Selecting everything bigger than 10 billion \n",
    "largecaps = market_id_24h_7d.query('market_cap_usd > 10000000000')\n",
    "\n",
    "# Printing out largecaps\n",
    "# ... YOUR CODE FOR TASK 9 ...\n",
    "\n",
    "largecaps.head(25)\n"
   ]
  },
  {
   "cell_type": "markdown",
   "metadata": {
    "dc": {
     "key": "67"
    },
    "deletable": false,
    "editable": false,
    "run_control": {
     "frozen": true
    },
    "tags": [
     "context"
    ]
   },
   "source": [
    "## 10. Most coins are tiny\n",
    "<p>Note that many coins are not comparable to large companies in market cap, so let's divert from the original Investopedia definition by merging categories.</p>\n",
    "<p><em>This is all for now. Thanks for completing this project!</em></p>"
   ]
  },
  {
   "cell_type": "code",
   "execution_count": null,
   "metadata": {
    "dc": {
     "key": "67"
    },
    "tags": [
     "sample_code"
    ]
   },
   "outputs": [],
   "source": [
    "# Making a nice function for counting different marketcaps from the\n",
    "# \"cap\" DataFrame. Returns an int.\n",
    "# INSTRUCTORS NOTE: Since you made it to the end, consider it a gift :D\n",
    "def capcount(query_string):\n",
    "    return cap.query(query_string).count().id\n",
    "\n",
    "# Labels for the plot\n",
    "LABELS = [\"biggish\", \"micro\", \"nano\"]\n",
    "\n",
    "# Using capcount count the biggish cryptos\n",
    "biggish = capcount('market_cap_usd > 3000000000')\n",
    "\n",
    "# Same as above for micro ...\n",
    "micro = capcount('market_cap_usd < 3000000000& market_cap_usd > 500000000')\n",
    "\n",
    "# ... and for nano\n",
    "nano =  capcount('market_cap_usd < 500000000')\n",
    "\n",
    "# Making a list with the 3 counts\n",
    "values = [biggish, micro, nano]\n",
    "\n",
    "# Plotting them with matplotlib \n",
    "\n",
    "print(values)\n",
    "plt.bar(LABELS, values)\n",
    "\n",
    "# ... YOUR CODE FOR TASK 10 ...\n",
    "\n"
   ]
  }
 ],
 "metadata": {
  "kernelspec": {
   "display_name": "Python 3",
   "language": "python",
   "name": "python3"
  },
  "language_info": {
   "codemirror_mode": {
    "name": "ipython",
    "version": 3
   },
   "file_extension": ".py",
   "mimetype": "text/x-python",
   "name": "python",
   "nbconvert_exporter": "python",
   "pygments_lexer": "ipython3",
   "version": "3.6.3"
  }
 },
 "nbformat": 4,
 "nbformat_minor": 2
}
